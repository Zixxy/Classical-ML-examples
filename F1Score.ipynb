{
 "cells": [
  {
   "cell_type": "code",
   "execution_count": 1,
   "metadata": {},
   "outputs": [],
   "source": [
    "from sklearn.cluster import KMeans, MiniBatchKMeans\n",
    "import numpy as np\n",
    "import sklearn.datasets as ds\n",
    "import itertools as it\n",
    "import matplotlib.pyplot as plt"
   ]
  },
  {
   "cell_type": "code",
   "execution_count": 2,
   "metadata": {},
   "outputs": [],
   "source": [
    "def kmeans(number_of_clusters, data_set, random_state=0):\n",
    "    kmeans = KMeans(n_clusters=number_of_clusters, random_state=random_state).fit(data_set)\n",
    "    return kmeans\n",
    "\n",
    "def mini_batch_kmeans(number_of_clusters, data_set, random_state=0):\n",
    "    kmeans = MiniBatchKMeans(n_clusters=number_of_clusters, random_state=random_state).fit(data_set)\n",
    "    return kmeans"
   ]
  },
  {
   "cell_type": "code",
   "execution_count": 3,
   "metadata": {},
   "outputs": [],
   "source": [
    "def get_points_in_each_cluster(labels):\n",
    "    clusters = []\n",
    "    for cluster_name in np.unique(labels):\n",
    "        clusters.append([i for i,x in enumerate(labels) if x == cluster_name])\n",
    "    return clusters\n",
    "\n",
    "def get_points_from_same_cluster(clusters):\n",
    "    pairs = [it.combinations(cluster, 2) for cluster in clusters]\n",
    "    return list(it.chain.from_iterable(pairs))\n",
    "\n",
    "def count_true_positives(original_pairs, assigned_pairs):\n",
    "    if_contains = [pair in original_pairs for pair in assigned_pairs]\n",
    "    return np.count_nonzero(if_contains)\n",
    "\n",
    "def count_false_negatives(original_pairs, assigned_pairs):\n",
    "    if_not_contains = [pair not in assigned_pairs for pair in original_pairs]\n",
    "    return np.count_nonzero(if_not_contains)"
   ]
  },
  {
   "cell_type": "markdown",
   "metadata": {},
   "source": [
    "## F1 score known as czekanowski dice index\n",
    "\n",
    "\n",
    "This [paper](http://www.ideal.ece.utexas.edu/papers/banerjee05overlapping.pdf) explains that\n",
    "*To evaluate the clustering results, precision, recall, and F-measure were calculated over pairs of points. For each pair of points that share at least one cluster in the overlapping clustering results, these measures try to estimate whether the prediction of this pair as being in the same cluster was correct with respect to the underlying true categories in the data. Precision is calculated as the fraction of pairs correctly put in the same cluster, recall is the fraction of actual pairs that were identified, and F-measure is the harmonic mean of precision and recall.*\n"
   ]
  },
  {
   "cell_type": "code",
   "execution_count": 4,
   "metadata": {},
   "outputs": [],
   "source": [
    "def f1_score(original_labels, assigned_labels):\n",
    "    original_clusters = get_points_in_each_cluster(original_labels)\n",
    "    assigned_clusters = get_points_in_each_cluster(assigned_labels)\n",
    "    original_pairs = get_points_from_same_cluster(original_clusters)\n",
    "    assigned_pairs = get_points_from_same_cluster(assigned_clusters)\n",
    "    tp = count_true_positives(original_pairs, assigned_pairs)\n",
    "    fn = count_false_negatives(original_pairs, assigned_pairs)\n",
    "    precision = float(tp) / len(assigned_pairs)\n",
    "    recall = float(tp) / (tp + fn)\n",
    "    index_value = 2 * (precision * recall) / (precision + recall)\n",
    "    return index_value"
   ]
  },
  {
   "cell_type": "markdown",
   "metadata": {},
   "source": [
    "# Test"
   ]
  },
  {
   "cell_type": "code",
   "execution_count": 5,
   "metadata": {
    "scrolled": false
   },
   "outputs": [
    {
     "name": "stdout",
     "output_type": "stream",
     "text": [
      "kmeans score 0.417359\n",
      "mini batch kmeans score 0.423610\n"
     ]
    }
   ],
   "source": [
    "def test_k_means(data_set, labels):\n",
    "    result = kmeans(clusters, data_set)\n",
    "    index_value = f1_score(labels, result.labels_)\n",
    "    print('kmeans score %f' % index_value)\n",
    "\n",
    "def test_mini_batch_kmeans(data_set, labels):\n",
    "    result = mini_batch_kmeans(clusters, data_set)\n",
    "    index_value = f1_score(labels, result.labels_)\n",
    "    print('mini batch kmeans score %f' % index_value)\n",
    "    \n",
    "clusters = 32\n",
    "samples = 400\n",
    "dim = 2\n",
    "data_set, labels = ds.make_blobs(samples, dim, clusters, cluster_std=1, random_state=3)\n",
    "test_k_means(data_set, labels)\n",
    "test_mini_batch_kmeans(data_set, labels)\n"
   ]
  }
 ],
 "metadata": {
  "kernelspec": {
   "display_name": "Python 3",
   "language": "python",
   "name": "python3"
  },
  "language_info": {
   "codemirror_mode": {
    "name": "ipython",
    "version": 3
   },
   "file_extension": ".py",
   "mimetype": "text/x-python",
   "name": "python",
   "nbconvert_exporter": "python",
   "pygments_lexer": "ipython3",
   "version": "3.6.5"
  }
 },
 "nbformat": 4,
 "nbformat_minor": 2
}

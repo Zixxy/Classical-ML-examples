{
 "cells": [
  {
   "cell_type": "markdown",
   "metadata": {},
   "source": [
    "### Possibilistic k-means"
   ]
  },
  {
   "cell_type": "code",
   "execution_count": 1,
   "metadata": {},
   "outputs": [],
   "source": [
    "import matplotlib.pyplot as plt\n",
    "import numpy as np\n",
    "from numpy.linalg import inv"
   ]
  },
  {
   "cell_type": "code",
   "execution_count": 2,
   "metadata": {},
   "outputs": [],
   "source": [
    "class PossibilisticKMeans:\n",
    "    def __init__(self, groups, dimensions=2, epsilon=0.01):\n",
    "        self.groups = groups\n",
    "        self.epsilon = epsilon\n",
    "        self.dimensions = dimensions\n",
    "\n",
    "    def select_random_centers(self):\n",
    "        self.centers = np.random.rand(self.groups, self.dimensions)\n",
    "    \n",
    "    def mahalonobis_distance(self, x, y, cov):\n",
    "        return np.dot(np.dot((x - y).T, cov), x - y)\n",
    "    \n",
    "    #returns non zero values\n",
    "    def d_ikA(self, x, v, A):\n",
    "        d = np.zeros((self.groups, len(x)))\n",
    "        for k in range(len(x)):\n",
    "            for i in range(self.groups):\n",
    "                d[i][k] = self.mahalonobis_distance(x[k], v[i], A)\n",
    "        # not to devide by zero\n",
    "        d = np.fmax(d, np.finfo(x.dtype).eps)\n",
    "        return d\n",
    "    \n",
    "    #u - centers x n_setsize\n",
    "    def calculate_new_centers(self, u, x, m): \n",
    "        um = u**m\n",
    "        divisor = np.sum(um, axis=1)\n",
    "        new_centers = np.dot(um, x)\n",
    "        new_centers /= np.atleast_2d(divisor).T\n",
    "        return new_centers\n",
    "    \n",
    "    def etas(self, u, d, m):\n",
    "        um = u**m\n",
    "        divisor = np.sum(um, axis=1)\n",
    "        eta_i = np.sum(um * d, axis=1)\n",
    "        eta_i /= divisor\n",
    "        return eta_i\n",
    "    \n",
    "    def fuzzy_k_means_step(self, x, v, m):\n",
    "        d = self.d_ikA(x, v, np.eye(self.dimensions))\n",
    "        u = (1 / d) ** (1 / (m-1))\n",
    "        return d, (u / u.sum(axis=0))\n",
    "    \n",
    "    def calculate_u(self, x, d, etas, m):\n",
    "        d = self.d_ikA(x, self.centers, np.eye(self.dimensions))\n",
    "        result = 1 + (d / etas) ** (1. / (m - 1))\n",
    "        return 1./ result\n",
    "    \n",
    "    def cluster_fcm(self, x, error, m, max_iter):\n",
    "        self.select_random_centers()\n",
    "        i = 0\n",
    "        while i < max_iter:\n",
    "            d, u = self.fuzzy_k_means_step(x, self.centers, m)\n",
    "            self.centers = self.calculate_new_centers(u, x, m)\n",
    "            i += 1\n",
    "        return d, u\n",
    "        \n",
    "    def setup(self, x, m, error, max_iter):\n",
    "        d, u = self.cluster_fcm(x, error, m, max_iter)\n",
    "        return u, self.etas(u, d, m).reshape(self.groups, 1)\n",
    "    \n",
    "    def cluster(self, x, error, m, max_iter):\n",
    "        u, etas = self.setup(x, m, error, max_iter)\n",
    "        i = 0\n",
    "        while i < max_iter:\n",
    "            self.centers = self.calculate_new_centers(u, x, m)\n",
    "            old_u = u\n",
    "            u = self.calculate_u(x, u, etas, m)\n",
    "            if np.linalg.norm(u - old_u) < error:\n",
    "                break\n",
    "            old_centers = self.centers\n",
    "            i = i + 1\n",
    "        return u"
   ]
  },
  {
   "cell_type": "code",
   "execution_count": 3,
   "metadata": {},
   "outputs": [],
   "source": [
    "def map_to_colors(assignation, colors):\n",
    "    colors_assigned = np.argmax(assignation, axis=0)\n",
    "    colors_map = dict([(colors[i], []) for i in range(len(colors))])\n",
    "    [colors_map[colors[colors_assigned[i]]].append(i) for i in range(len(colors_assigned))]\n",
    "    return colors_map"
   ]
  },
  {
   "cell_type": "code",
   "execution_count": 4,
   "metadata": {},
   "outputs": [],
   "source": [
    "possible_colors = ['blue','red','green', 'orange']"
   ]
  },
  {
   "cell_type": "code",
   "execution_count": 5,
   "metadata": {},
   "outputs": [],
   "source": [
    "import sklearn.datasets as ds\n",
    "data_set = ds.make_blobs(206, 2, len(possible_colors))\n",
    "possibilistic = PossibilisticKMeans(len(possible_colors))\n",
    "possibilistic.select_random_centers()\n",
    "u = possibilistic.cluster(data_set[0], 0.001, 2, 180)\n",
    "centers = possibilistic.centers\n",
    "cmap = map_to_colors(u, possible_colors)"
   ]
  },
  {
   "cell_type": "markdown",
   "metadata": {},
   "source": [
    "# Plot results"
   ]
  },
  {
   "cell_type": "code",
   "execution_count": 6,
   "metadata": {},
   "outputs": [
    {
     "data": {
      "image/png": "[encoded data removed]",
      "text/plain": [
       "<matplotlib.figure.Figure at 0x106cdd128>"
      ]
     },
     "metadata": {},
     "output_type": "display_data"
    }
   ],
   "source": [
    "centers = possibilistic.centers\n",
    "fig, ax = plt.subplots()\n",
    "\n",
    "colors_array = [np.array(data_set[0][cmap[c]]) for c in possible_colors]\n",
    "\n",
    "for i, arr in enumerate(colors_array):\n",
    "    ax.scatter(arr[:,0], arr[:,1], c=possible_colors[i])\n",
    "ax.scatter(centers[:,0],centers[:,1],c='black')\n",
    "ax.set(xlabel='X', ylabel='Y',\n",
    "       title='Random clusters')\n",
    "ax.grid()\n",
    "plt.show()"
   ]
  }
 ],
 "metadata": {
  "kernelspec": {
   "display_name": "Python 3",
   "language": "python",
   "name": "python3"
  },
  "language_info": {
   "codemirror_mode": {
    "name": "ipython",
    "version": 3
   },
   "file_extension": ".py",
   "mimetype": "text/x-python",
   "name": "python",
   "nbconvert_exporter": "python",
   "pygments_lexer": "ipython3",
   "version": "3.6.2"
  }
 },
 "nbformat": 4,
 "nbformat_minor": 2
}

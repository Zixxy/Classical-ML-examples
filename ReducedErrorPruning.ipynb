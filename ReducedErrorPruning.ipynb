{
 "cells": [
  {
   "cell_type": "code",
   "execution_count": 200,
   "metadata": {},
   "outputs": [],
   "source": [
    "import math\n",
    "import numpy as np\n",
    "import pandas as pd"
   ]
  },
  {
   "cell_type": "markdown",
   "metadata": {},
   "source": [
    "## ID3 algorithm\n",
    "\n",
    "Using ID3 methond to build decision tree"
   ]
  },
  {
   "cell_type": "code",
   "execution_count": 643,
   "metadata": {},
   "outputs": [],
   "source": [
    "class Node:\n",
    "    def __init__(self, labels):\n",
    "        self.children = []\n",
    "        self.labels = labels #it is possible to get rid of these, bot for the simplicity of a solution I am leaving as is.\n",
    "        self.splitting_feature = None\n",
    "        self.splitting_values = []\n",
    "        \n",
    "    def set_splitting_feature(self, splitting_feature):    \n",
    "        self.splitting_feature = splitting_feature\n",
    "        \n",
    "    def set_children_splitting_vals(self, splitting_values):\n",
    "        self.splitting_values = splitting_values\n",
    "    \n",
    "    def set_children(self, children):\n",
    "        self.children = children\n",
    "    \n",
    "    def get_children(self):\n",
    "        return self.children\n",
    "    \n",
    "    def node_error_rate(self, x, y):\n",
    "        _, best_label = max([(len(np.where(label == self.labels)[0]), label) for label in self.labels])\n",
    "        correct = len(np.where(y == best_label)[0])\n",
    "        acc = correct / len(y)\n",
    "        return 1 - acc\n",
    "    \n",
    "    def predict(self, x):\n",
    "        if len(self.children) == 0: # We are in leaf.\n",
    "            return self.best_label\n",
    "        idx = self.splitting_values.index(x[self.splitting_feature])\n",
    "        return self.children[idx].predict(x)\n",
    "    "
   ]
  },
  {
   "cell_type": "code",
   "execution_count": 644,
   "metadata": {},
   "outputs": [],
   "source": [
    "class Leaf(Node):\n",
    "    def __init__(self, labels):\n",
    "        Node.__init__(self, labels)\n",
    "        seq = [(len(np.where(label == labels)[0]), label) for label in labels]\n",
    "        if len(seq) == 0:\n",
    "            self.best_label = -1 #Temp quick solution for empty leafs\n",
    "        else:\n",
    "            _, self.best_label = max(seq)"
   ]
  },
  {
   "cell_type": "code",
   "execution_count": 645,
   "metadata": {},
   "outputs": [],
   "source": [
    "class ID3Tree:\n",
    "    def __init__(self, data, labels):\n",
    "        self.data = data\n",
    "        self.labels = labels\n",
    "        self._build_tree()\n",
    "        \n",
    "    def _information_gain(self, arr, labels):\n",
    "        def plogp(p): return -p * math.log2(p)\n",
    "        def calc_entropy(labels):\n",
    "            unique_labels = np.unique(labels)\n",
    "            return sum([plogp(len(np.where(labels == label)[0]) / len(labels)) for label in unique_labels])\n",
    "            \n",
    "        unique_vals = np.unique(arr)\n",
    "        information_gain = calc_entropy(labels)\n",
    "        for v in unique_vals:\n",
    "            feature_labels = labels[np.where(arr == v)[0]]\n",
    "            entropy = calc_entropy(feature_labels)\n",
    "            information_gain -= entropy * len(feature_labels) / len(labels)\n",
    "        return information_gain\n",
    "    \n",
    "    def _build_tree(self):\n",
    "        data = self.data\n",
    "        labels = self.labels\n",
    "        \n",
    "        columns = list(np.linspace(0, data.shape[1] - 1, data.shape[1]).astype(np.int32))\n",
    "        self.root = self._build_node(data, labels, columns)\n",
    "    \n",
    "    def _build_node(self, data, labels, columns):\n",
    "        if len(np.unique(labels)) == 1 or len(columns) == 0:\n",
    "            return Leaf(labels)\n",
    "        gain, i = max([(self._information_gain(data[:, i], labels), i) for i in columns])\n",
    "        children = []\n",
    "        splitting_values = []\n",
    "        columns.remove(i)\n",
    "        for v in np.unique(data[:, i]):\n",
    "            node = self._build_node(data[data[:, i] == v], labels[data[:, i] == v], columns)\n",
    "            children.append(node)\n",
    "            splitting_values.append(v)\n",
    "        \n",
    "        result = Node(labels)\n",
    "        result.set_children(children)\n",
    "        result.set_splitting_feature(i)\n",
    "        result.set_children_splitting_vals(splitting_values)\n",
    "        return result\n",
    "\n",
    "    def predict(self, test_x):\n",
    "        result = [self.root.predict(x) for x in test_x]\n",
    "        return np.array(result)\n",
    "    \n",
    "    def predict_for_node(self, node, test_x):\n",
    "        result = [node.predict(x) for x in test_x]\n",
    "        return np.array(result)\n",
    "        \n",
    "    def accuracy(self, validate_x, validate_y):\n",
    "        predictions = [self.root.predict(x) for x in validate_x]\n",
    "        good_preds = sum([1 for i in range(len(predictions)) if predictions[i] == validate_y[i]])\n",
    "        return good_preds / len(validate_y)"
   ]
  },
  {
   "cell_type": "markdown",
   "metadata": {},
   "source": [
    "### REP method\n",
    "Prunning bottom up, this way prunning is quicker in avarage case."
   ]
  },
  {
   "cell_type": "code",
   "execution_count": 646,
   "metadata": {},
   "outputs": [],
   "source": [
    "def reduced_error_pruning(tree, validate_x, validate_y):\n",
    "    def tree_crawl(node, validate_x, validate_y):\n",
    "        if len(node.children) == 0: # Leaf.\n",
    "            return True\n",
    "        \n",
    "        indexes = np.array([node.splitting_values.index(x[node.splitting_feature]) for x in validate_x])\n",
    "        children_prunned = False\n",
    "        for i, child in enumerate(node.children):\n",
    "            new_validate_x = validate_x[np.where(indexes == i)[0]]\n",
    "            new_validate_y = validate_y[np.where(indexes == i)[0]]\n",
    "            if tree_crawl(child, new_validate_x, new_validate_y):\n",
    "                children_prunned = True\n",
    "                if len(child.children) != 0:\n",
    "                    node.children[i] = Leaf(node.children[i].labels) #prunning\n",
    "        \n",
    "        if children_prunned:\n",
    "            current_err = node.node_error_rate(validate_x, validate_y)\n",
    "            predictions = tree.predict_for_node(node, validate_x)\n",
    "            good_preds = sum([1 for i in range(len(predictions)) if predictions[i] == validate_y[i]])\n",
    "            acc = good_preds / len(validate_y)\n",
    "            err = 1 - acc\n",
    "            if current_err <= err: \n",
    "                return True #make prunning\n",
    "        return False\n",
    "    tree_crawl(tree.root, validate_x, validate_y)\n",
    "    \n",
    "def tree_size(tree):\n",
    "    def tree_size(node):\n",
    "        return sum([tree_size(c) for c in node.children]) + len(node.children)\n",
    "    return tree_size(tree.root)"
   ]
  },
  {
   "cell_type": "markdown",
   "metadata": {},
   "source": [
    "- simple example of tree prunning"
   ]
  },
  {
   "cell_type": "code",
   "execution_count": 647,
   "metadata": {},
   "outputs": [],
   "source": [
    "y = np.array([1,1,-1,1,-1,-1,1,1,1,1,1,1,-1,-1,-1])\n",
    "x = np.array([[1,1,2,2],[2,1,2,2],[1,1,1,2],[1,2,1,2],[2,3,2,2],\n",
    "                [2,2,1,2],[3,2,2,1],[1,3,2,2],[3,3,2,1],[2,3,1,2],\n",
    "                [3,1,1,1],[1,2,1,1],[2,3,1,1],[2,1,1,2],[2,2,1,1]])\n",
    "t = ID3Tree(x, y)"
   ]
  },
  {
   "cell_type": "code",
   "execution_count": 648,
   "metadata": {},
   "outputs": [
    {
     "name": "stdout",
     "output_type": "stream",
     "text": [
      "10\n",
      "0.8666666666666667\n"
     ]
    }
   ],
   "source": [
    "print(tree_size(t))\n",
    "print(t.accuracy(x,y))"
   ]
  },
  {
   "cell_type": "code",
   "execution_count": 649,
   "metadata": {},
   "outputs": [],
   "source": [
    "reduced_error_pruning(t, x, y)"
   ]
  },
  {
   "cell_type": "code",
   "execution_count": 650,
   "metadata": {},
   "outputs": [
    {
     "name": "stdout",
     "output_type": "stream",
     "text": [
      "8\n",
      "0.8666666666666667\n"
     ]
    }
   ],
   "source": [
    "print(tree_size(t))\n",
    "print(t.accuracy(x,y))"
   ]
  },
  {
   "cell_type": "markdown",
   "metadata": {},
   "source": [
    "- prunning works for this case. In general case it should be done on validation set."
   ]
  }
 ],
 "metadata": {
  "kernelspec": {
   "display_name": "Python 3",
   "language": "python",
   "name": "python3"
  },
  "language_info": {
   "codemirror_mode": {
    "name": "ipython",
    "version": 3
   },
   "file_extension": ".py",
   "mimetype": "text/x-python",
   "name": "python",
   "nbconvert_exporter": "python",
   "pygments_lexer": "ipython3",
   "version": "3.6.5"
  }
 },
 "nbformat": 4,
 "nbformat_minor": 2
}
